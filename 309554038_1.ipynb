{
 "cells": [
  {
   "cell_type": "code",
   "execution_count": 1,
   "id": "92b3e98b",
   "metadata": {},
   "outputs": [],
   "source": [
    "import pandas as pd\n",
    "import numpy as np\n",
    "import seaborn as sns\n",
    "import matplotlib.pyplot as plt\n",
    "from scipy.stats import chi2_contingency\n",
    "from itertools import combinations\n",
    "import seaborn as sns\n",
    "from imblearn.over_sampling import SMOTENC\n",
    "from sklearn.model_selection import train_test_split, RandomizedSearchCV\n",
    "\n",
    "from sklearn.metrics import f1_score, accuracy_score, confusion_matrix\n",
    "from prince import MCA\n",
    "from sklearn.ensemble import IsolationForest\n",
    "from mpl_toolkits.mplot3d import Axes3D\n",
    "\n",
    "from sklearn.linear_model import LogisticRegression\n",
    "from sklearn.tree import DecisionTreeClassifier\n",
    "from sklearn.ensemble import RandomForestClassifier\n",
    "from sklearn.svm import SVC\n",
    "\n",
    "from scipy.stats import uniform\n",
    "#from c45 import C45"
   ]
  },
  {
   "cell_type": "markdown",
   "id": "fedc4b72",
   "metadata": {},
   "source": [
    "# splite continuous and categorical data for further analysis"
   ]
  },
  {
   "cell_type": "code",
   "execution_count": 2,
   "id": "74de80ad",
   "metadata": {},
   "outputs": [],
   "source": [
    "data = pd.read_excel(\"tr.xlsx\")"
   ]
  },
  {
   "cell_type": "code",
   "execution_count": 3,
   "id": "6e946bc6",
   "metadata": {},
   "outputs": [
    {
     "data": {
      "text/plain": [
       "array([  2,   3,   4,   6,  14,  16,  58,  86, 103, 109, 132, 170, 205,\n",
       "       206, 229, 245, 274, 299, 316, 339, 350, 381, 428, 514, 516, 570,\n",
       "       852], dtype=int64)"
      ]
     },
     "execution_count": 3,
     "metadata": {},
     "output_type": "execute_result"
    }
   ],
   "source": [
    "np.sort(data.nunique().unique())"
   ]
  },
  {
   "cell_type": "code",
   "execution_count": 4,
   "id": "1169ddaf",
   "metadata": {},
   "outputs": [],
   "source": [
    "data_conti = data.iloc[:,np.where(data.nunique()>20)[0]]\n",
    "data_cat = data.iloc[:,np.where(data.nunique()<=20)[0]]\n",
    "target = data_cat.iloc[:,0]\n",
    "data_cat = data_cat.iloc[:,1:]"
   ]
  },
  {
   "cell_type": "code",
   "execution_count": 5,
   "id": "03b44f8c",
   "metadata": {
    "scrolled": true
   },
   "outputs": [
    {
     "data": {
      "text/plain": [
       "cci_index\n",
       "0            35002\n",
       "1             8003\n",
       "2             4343\n",
       "3             2301\n",
       "4             1172\n",
       "5              656\n",
       "6              289\n",
       "8              131\n",
       "7              117\n",
       "9               84\n",
       "10              29\n",
       "11              13\n",
       "12              12\n",
       "13               4\n",
       "14               2\n",
       "15               1\n",
       "dtype: int64"
      ]
     },
     "execution_count": 5,
     "metadata": {},
     "output_type": "execute_result"
    }
   ],
   "source": [
    "data[data.columns[data.nunique()==16]].value_counts()"
   ]
  },
  {
   "cell_type": "markdown",
   "id": "9e68cee1",
   "metadata": {},
   "source": [
    "# Dealing with categorical data"
   ]
  },
  {
   "cell_type": "code",
   "execution_count": 6,
   "id": "e7aa24c5",
   "metadata": {},
   "outputs": [
    {
     "data": {
      "text/plain": [
       "SEX    0.001802\n",
       "ASA    0.386472\n",
       "dtype: float64"
      ]
     },
     "execution_count": 6,
     "metadata": {},
     "output_type": "execute_result"
    }
   ],
   "source": [
    "data_cat.iloc[:,np.where(data_cat.isnull().sum()>0)[0]].isnull().sum()/len(data_cat)"
   ]
  },
  {
   "cell_type": "code",
   "execution_count": 7,
   "id": "f18d9743",
   "metadata": {},
   "outputs": [
    {
     "data": {
      "text/plain": [
       "F    0.666922\n",
       "M    0.331276\n",
       "Name: SEX, dtype: float64"
      ]
     },
     "execution_count": 7,
     "metadata": {},
     "output_type": "execute_result"
    }
   ],
   "source": [
    "data_cat.SEX.value_counts()/len(data_cat)"
   ]
  },
  {
   "cell_type": "code",
   "execution_count": 8,
   "id": "a00e5d7c",
   "metadata": {},
   "outputs": [],
   "source": [
    "data_cat.SEX = data_cat.SEX.fillna(\"F\")\n",
    "\n",
    "data_cat = data_cat[data_cat.columns[np.where((data_cat.isnull().sum()/len(data))<0.3)]]"
   ]
  },
  {
   "cell_type": "markdown",
   "id": "1396bf95",
   "metadata": {},
   "source": [
    "# MCA for categorical data dimensionality reduction for anomaly detection"
   ]
  },
  {
   "cell_type": "code",
   "execution_count": 9,
   "id": "775b2418",
   "metadata": {},
   "outputs": [
    {
     "data": {
      "text/plain": [
       "MCA(n_components=44)"
      ]
     },
     "execution_count": 9,
     "metadata": {},
     "output_type": "execute_result"
    }
   ],
   "source": [
    "mca = MCA(n_components = data_cat.shape[1])\n",
    "mca.fit(data_cat)"
   ]
  },
  {
   "cell_type": "code",
   "execution_count": 10,
   "id": "80b031bd",
   "metadata": {},
   "outputs": [],
   "source": [
    "data_cat_mca = mca.transform(data_cat).iloc[:,[i for i in range(np.where((np.cumsum(mca.explained_inertia_)/np.sum(mca.explained_inertia_))>0.9)[0][0])]]"
   ]
  },
  {
   "cell_type": "markdown",
   "id": "2e54dcb6",
   "metadata": {},
   "source": [
    "# Delete continuous data with NA value over 30% (paper supported)"
   ]
  },
  {
   "cell_type": "code",
   "execution_count": 11,
   "id": "baa511e9",
   "metadata": {},
   "outputs": [
    {
     "name": "stdout",
     "output_type": "stream",
     "text": [
      "Index(['AGE', 'LOS'], dtype='object')\n"
     ]
    }
   ],
   "source": [
    "print(data_conti.columns[np.where((data_conti.isnull().sum()/len(data))<0.3)])\n",
    "data_conti = data_conti[data_conti.columns[np.where((data_conti.isnull().sum()/len(data))<0.3)]]"
   ]
  },
  {
   "cell_type": "markdown",
   "id": "bf57bbc9",
   "metadata": {},
   "source": [
    "# Examine proportion of outcome"
   ]
  },
  {
   "cell_type": "code",
   "execution_count": 12,
   "id": "07f960f2",
   "metadata": {},
   "outputs": [
    {
     "data": {
      "text/plain": [
       "0    51280\n",
       "1      879\n",
       "Name: outcome, dtype: int64"
      ]
     },
     "execution_count": 12,
     "metadata": {},
     "output_type": "execute_result"
    }
   ],
   "source": [
    "data[\"outcome\"].value_counts()"
   ]
  },
  {
   "cell_type": "markdown",
   "id": "1a50e9e7",
   "metadata": {},
   "source": [
    "# Continuous data EDA"
   ]
  },
  {
   "cell_type": "code",
   "execution_count": 13,
   "id": "2b393350",
   "metadata": {},
   "outputs": [
    {
     "data": {
      "image/png": "[encoded data removed]",
      "text/plain": [
       "<Figure size 432x288 with 2 Axes>"
      ]
     },
     "metadata": {
      "needs_background": "light"
     },
     "output_type": "display_data"
    }
   ],
   "source": [
    "data_conti.hist()\n",
    "plt.show()"
   ]
  },
  {
   "cell_type": "code",
   "execution_count": 14,
   "id": "9f8f612e",
   "metadata": {},
   "outputs": [],
   "source": [
    "data_conti.LOS = np.log(data_conti.LOS)"
   ]
  },
  {
   "cell_type": "code",
   "execution_count": 15,
   "id": "e45cd55b",
   "metadata": {},
   "outputs": [
    {
     "data": {
      "image/png": "[encoded data removed]",
      "text/plain": [
       "<Figure size 432x288 with 2 Axes>"
      ]
     },
     "metadata": {
      "needs_background": "light"
     },
     "output_type": "display_data"
    }
   ],
   "source": [
    "data_conti.hist()\n",
    "plt.show()"
   ]
  },
  {
   "cell_type": "code",
   "execution_count": 16,
   "id": "abe6164e",
   "metadata": {},
   "outputs": [
    {
     "data": {
      "text/html": [
       "<div>\n",
       "<style scoped>\n",
       "    .dataframe tbody tr th:only-of-type {\n",
       "        vertical-align: middle;\n",
       "    }\n",
       "\n",
       "    .dataframe tbody tr th {\n",
       "        vertical-align: top;\n",
       "    }\n",
       "\n",
       "    .dataframe thead th {\n",
       "        text-align: right;\n",
       "    }\n",
       "</style>\n",
       "<table border=\"1\" class=\"dataframe\">\n",
       "  <thead>\n",
       "    <tr style=\"text-align: right;\">\n",
       "      <th></th>\n",
       "      <th>AGE</th>\n",
       "      <th>LOS</th>\n",
       "    </tr>\n",
       "  </thead>\n",
       "  <tbody>\n",
       "    <tr>\n",
       "      <th>AGE</th>\n",
       "      <td>1.000000</td>\n",
       "      <td>0.030688</td>\n",
       "    </tr>\n",
       "    <tr>\n",
       "      <th>LOS</th>\n",
       "      <td>0.030688</td>\n",
       "      <td>1.000000</td>\n",
       "    </tr>\n",
       "  </tbody>\n",
       "</table>\n",
       "</div>"
      ],
      "text/plain": [
       "          AGE       LOS\n",
       "AGE  1.000000  0.030688\n",
       "LOS  0.030688  1.000000"
      ]
     },
     "execution_count": 16,
     "metadata": {},
     "output_type": "execute_result"
    }
   ],
   "source": [
    "data_conti.corr()"
   ]
  },
  {
   "cell_type": "markdown",
   "id": "30935a0a",
   "metadata": {},
   "source": [
    "# Standardization on continuous data"
   ]
  },
  {
   "cell_type": "code",
   "execution_count": 17,
   "id": "6077348e",
   "metadata": {},
   "outputs": [],
   "source": [
    "data_conti = (data_conti - data_conti.mean())/data_conti.std()"
   ]
  },
  {
   "cell_type": "code",
   "execution_count": 18,
   "id": "0ab0d0ef",
   "metadata": {},
   "outputs": [],
   "source": [
    "data_conti = data_conti.fillna(0)"
   ]
  },
  {
   "cell_type": "markdown",
   "id": "86697576",
   "metadata": {},
   "source": [
    "# Anomaly detection"
   ]
  },
  {
   "cell_type": "code",
   "execution_count": 19,
   "id": "80354990",
   "metadata": {},
   "outputs": [],
   "source": [
    "data_isotr = pd.concat([data_conti,data_cat_mca],axis=1).to_numpy()"
   ]
  },
  {
   "cell_type": "code",
   "execution_count": 20,
   "id": "b8d85764",
   "metadata": {},
   "outputs": [],
   "source": [
    "lst = np.zeros(len(data_isotr))\n",
    "for _ in range(100):\n",
    "    clf = IsolationForest()\n",
    "    clf.fit(data_isotr)\n",
    "    ind = np.where(clf.predict(data_isotr) == -1)[0]\n",
    "    lst[ind] += 1"
   ]
  },
  {
   "cell_type": "code",
   "execution_count": 21,
   "id": "f91a1466",
   "metadata": {},
   "outputs": [],
   "source": [
    "I = []\n",
    "for i in [i for i in range(len(data_isotr))]:\n",
    "    if i not in np.where(lst>50)[0]:\n",
    "        I.append(i)"
   ]
  },
  {
   "cell_type": "code",
   "execution_count": 122,
   "id": "4a55b2f0",
   "metadata": {},
   "outputs": [
    {
     "name": "stderr",
     "output_type": "stream",
     "text": [
      "D:\\Anaconda\\envs\\tf\\lib\\site-packages\\ipykernel_launcher.py:6: MatplotlibDeprecationWarning: Calling gca() with keyword arguments was deprecated in Matplotlib 3.4. Starting two minor releases later, gca() will take no keyword arguments. The gca() function should only be used to get the current axes, or if no axes exist, create new axes with default keyword arguments. To create a new axes with non-default arguments, use plt.axes() or plt.subplot().\n",
      "  \n"
     ]
    },
    {
     "data": {
      "image/png": "[encoded data removed]",
      "text/plain": [
       "<Figure size 720x576 with 1 Axes>"
      ]
     },
     "metadata": {
      "needs_background": "light"
     },
     "output_type": "display_data"
    }
   ],
   "source": [
    "# outlier設定\n",
    "I = np.array(I)\n",
    "drop_ind = np.where(lst>50)[0]\n",
    "# 圖形設定\n",
    "plt.figure(figsize = (10, 8))\n",
    "ax = plt.gca(projection='3d')\n",
    "# 各類別畫圖\n",
    "## 非outlier\n",
    "X = data_isotr[I,0]\n",
    "Y = data_isotr[I,1]\n",
    "Z = [0 for i in range(len(I))]\n",
    "ax.scatter(X, Y, Z, marker = 'o', color = 'blue', label = 'not anomaly')\n",
    "## 是outlier\n",
    "X = data_isotr[drop_ind,0]\n",
    "Y = data_isotr[drop_ind,1]\n",
    "Z = [1 for i in range(len(drop_ind))]\n",
    "ax.scatter(X, Y, Z, marker = 'o', color = 'red', label = 'anomaly')\n",
    "## 類別1\n",
    "III = np.where(target == 1)[0]\n",
    "X = data_isotr[III,0]\n",
    "Y = data_isotr[III,1]\n",
    "Z = [2 for i in range(len(III))]\n",
    "#ax.scatter(X, Y, Z, marker = 'o', color = 'orange', label = 'class 1')\n",
    "\n",
    "ax.set_xlabel('MC1')\n",
    "ax.set_ylabel('MC2')\n",
    "ax.set_zlabel('cluster')\n",
    "ax.legend()\n",
    "plt.show()"
   ]
  },
  {
   "cell_type": "code",
   "execution_count": 23,
   "id": "052a64a2",
   "metadata": {},
   "outputs": [],
   "source": [
    "data_conti = data_conti.drop(drop_ind)\n",
    "data_cat = data_cat.drop(drop_ind)\n",
    "target = target.drop(drop_ind)"
   ]
  },
  {
   "cell_type": "markdown",
   "id": "50dc7118",
   "metadata": {},
   "source": [
    "# Chi square for categorical data"
   ]
  },
  {
   "cell_type": "code",
   "execution_count": 24,
   "id": "8109f748",
   "metadata": {},
   "outputs": [],
   "source": [
    "def del_cat(pd_data_cat):\n",
    "    comb = combinations([i for i in range(pd_data_cat.shape[1])],2)\n",
    "    comb = list(comb)\n",
    "\n",
    "    chi_re = []\n",
    "    for i in comb:\n",
    "        re = []\n",
    "        re.append(pd_data_cat.columns[i[0]])\n",
    "        re.append(pd_data_cat.columns[i[1]])\n",
    "        re.append(chi2_contingency(np.array(pd.crosstab(pd_data_cat.iloc[:,i[0]], pd_data_cat.iloc[:,i[1]])))[1])\n",
    "        chi_re.append(re)\n",
    "\n",
    "    cat_col = pd_data_cat.columns\n",
    "    cat_count = np.array([0 for i in range(len(cat_col))])\n",
    "\n",
    "    for i in chi_re:\n",
    "        if i[2] < 0.05:\n",
    "            cat_count[np.where(cat_col == i[0])[0]] += 1\n",
    "            cat_count[np.where(cat_col == i[1])[0]] += 1\n",
    "            \n",
    "    return pd_data_cat.drop([cat_col[np.argmax(cat_count)]],axis=1)\n",
    "\n",
    "def chi_2(pd_data_cat):\n",
    "    comb = combinations([i for i in range(pd_data_cat.shape[1])], 2)\n",
    "    comb = list(comb)\n",
    "    chi_re = []\n",
    "    for i in comb:\n",
    "        re = []\n",
    "        re.append(pd_data_cat.columns[i[0]])\n",
    "        re.append(pd_data_cat.columns[i[1]])\n",
    "        re.append(chi2_contingency(np.array(pd.crosstab(pd_data_cat.iloc[:,i[0]], pd_data_cat.iloc[:,i[1]])))[1])\n",
    "        chi_re.append(re)\n",
    "    cat_col = pd_data_cat.columns\n",
    "    cat_count = np.array([0 for i in range(len(cat_col))])\n",
    "    for i in chi_re:\n",
    "        if i[2] < 0.05:\n",
    "            cat_count[np.where(cat_col == i[0])[0]] += 1\n",
    "            cat_count[np.where(cat_col == i[1])[0]] += 1\n",
    "    \n",
    "    return cat_count\n",
    "\n",
    "def oversample(data):\n",
    "    over_len = len(np.where(data.outcome==0)[0])-len(np.where(data.outcome==1)[0])\n",
    "    ind = np.random.choice(np.where(data.outcome==1)[0], over_len)\n",
    "    \n",
    "    #data_over = data_clean.iloc[np.random.randint(0,len(np.where(data_clean.outcome==1)[0])),:]\n",
    "    #for _ in range(over_len - 1):\n",
    "        #data_over = pd.concat([data_over,data_clean.iloc[np.random.randint(0,len(np.where(data_clean.outcome==1)[0])),:]],axis = 1)\n",
    "    return pd.concat([data.iloc[ind,:], data], axis = 0)"
   ]
  },
  {
   "cell_type": "code",
   "execution_count": 25,
   "id": "4a4a0c64",
   "metadata": {},
   "outputs": [],
   "source": [
    "while np.sum(chi_2(data_cat) > 0):\n",
    "    data_cat = del_cat(data_cat)"
   ]
  },
  {
   "cell_type": "code",
   "execution_count": 26,
   "id": "aadecc91",
   "metadata": {},
   "outputs": [],
   "source": [
    "del_cat_y = []\n",
    "for i in range(data_cat.shape[1]):\n",
    "    chi2_re = chi2_contingency(np.array(pd.crosstab(data_cat.iloc[:,i], target)))[1]\n",
    "    if chi2_re > 0.05:\n",
    "        del_cat_y.append(data_cat.columns[i])\n",
    "        #data_cat_f = data_cat.drop([data_cat.columns[i]],axis = 1)"
   ]
  },
  {
   "cell_type": "code",
   "execution_count": 27,
   "id": "f76ef8f8",
   "metadata": {},
   "outputs": [],
   "source": [
    "data_cat_f = data_cat.drop(del_cat_y,axis = 1)"
   ]
  },
  {
   "cell_type": "code",
   "execution_count": 28,
   "id": "f655f136",
   "metadata": {},
   "outputs": [
    {
     "name": "stdout",
     "output_type": "stream",
     "text": [
      "0    47814\n",
      "1     2048\n",
      "Name: Rheumatoid Arthritis/collagen, dtype: int64\n",
      "0    49860\n",
      "1        2\n",
      "Name: Weight Loss, dtype: int64\n",
      "0    49592\n",
      "1      270\n",
      "Name: Alcohol Abuse, dtype: int64\n"
     ]
    }
   ],
   "source": [
    "for i in range(data_cat_f.shape[1]):\n",
    "    print(data_cat_f.iloc[:,i].value_counts())"
   ]
  },
  {
   "cell_type": "code",
   "execution_count": 29,
   "id": "72396452",
   "metadata": {},
   "outputs": [],
   "source": [
    "#one-hot後會讓NA的vecter都是0\n",
    "#data_cat_onehot = pd.get_dummies(data_cat, columns = data_cat.columns, drop_first = True)"
   ]
  },
  {
   "cell_type": "markdown",
   "id": "08781390",
   "metadata": {},
   "source": [
    "# SMOTENC on training data"
   ]
  },
  {
   "cell_type": "code",
   "execution_count": 126,
   "id": "e8285159",
   "metadata": {},
   "outputs": [],
   "source": [
    "X = pd.concat([data_conti, data_cat_f], axis = 1)\n",
    "y = target\n",
    "\n",
    "#X_train, X_val, y_train, y_val = train_test_split(X.to_numpy(), y.to_numpy(), test_size=0.33, random_state = 1)"
   ]
  },
  {
   "cell_type": "code",
   "execution_count": 142,
   "id": "31795ce7",
   "metadata": {},
   "outputs": [],
   "source": [
    "from sklearn.metrics import precision_recall_curve\n",
    "from sklearn.model_selection import StratifiedKFold\n",
    "\n",
    "def Parameters(pars, values, n):\n",
    "    # pars：參數名稱\n",
    "    # 參數取值\n",
    "    # n：要挑幾組\n",
    "    '''if type(pars!=list):\n",
    "        raise ValueError('Input type of pars should be a list')\n",
    "    if type(values!=list):\n",
    "        raise ValueError('Input type of values should be a list')'''\n",
    "    if (len(pars)!=len(values)):\n",
    "        raise ValueError('pars and values should have same length')\n",
    "    \n",
    "    para_dict = []\n",
    "    for i in range(n):\n",
    "        vlist = []\n",
    "        for p in range(len(pars)):\n",
    "            v = np.random.choice(values[p])\n",
    "            vlist.append(v)\n",
    "        choice = dict(zip(pars, vlist))\n",
    "        para_dict.append(choice)\n",
    "    return para_dict\n",
    "\n",
    "def best_thr(y_true, y_prob):\n",
    "    precs, recs, thrs = precision_recall_curve(y_true, y_prob)\n",
    "    f1s = 2 * precs * recs / (precs + recs)\n",
    "    f1s = f1s[:-1]\n",
    "    thrs = thrs[~np.isnan(f1s)]\n",
    "    f1s = f1s[~np.isnan(f1s)]\n",
    "    best_thr = thrs[np.argmax(f1s)]\n",
    "    #f1_score = np.max(f1s)\n",
    "    return best_thr#, f1_score\n",
    "\n",
    "def HPSearch(X, y, param_dict, k, cate_idx, classifier):\n",
    "    # param_dict 是 函數 Parameters 的 output，list of parameter dictionary\n",
    "    # cate_idx:類別變數的column index\n",
    "    # scoring：score function\n",
    "    X = np.array(X)\n",
    "    y = np.array(y)\n",
    "    F1_all = []\n",
    "    thr_all = []\n",
    "    f1_all = []\n",
    "    for param in param_dict: \n",
    "        print(param)\n",
    "        cv = StratifiedKFold(n_splits=k)\n",
    "        F1 = []\n",
    "        thr_lst = []\n",
    "        for train_idx, test_idx, in cv.split(X, y):\n",
    "            #print(len(train_idx), len(test_idx))\n",
    "            X_res, y_res = X[train_idx,:], y[train_idx]\n",
    "            X_ts, y_ts = X[test_idx,:], y[test_idx]\n",
    "            '''\n",
    "            if (cate_idx=='None'):\n",
    "                sm = SMOTE(random_state=1)\n",
    "            else:\n",
    "                sm = SMOTENC(categorical_features=cate_idx)\n",
    "            X_res, y_res = sm.fit_resample(X_tr, y_tr)\n",
    "            \n",
    "            '''\n",
    "            \n",
    "            if (classifier=='RF'):\n",
    "                clf = RandomForestClassifier(**param)\n",
    "            elif (classifier=='SVM'):\n",
    "                clf = SVC(**param)\n",
    "            elif (classifier=='LG'):\n",
    "                clf = LogisticRegression(**param)\n",
    "            elif (classifier=='DT'):\n",
    "                clf = DecisionTreeClassifier(**param)\n",
    "                \n",
    "            clf.fit(X_res, y_res)\n",
    "            thr = best_thr(y_res,clf.predict_proba(X_res)[:,1])\n",
    "            y_pred = (clf.predict_proba(X_ts)[:,1]>thr).astype(int)\n",
    "            #print(len(y_pred))\n",
    "            F1.append(f1_score(y_ts, y_pred))\n",
    "            thr_lst.append(thr)\n",
    "        F1_all.append(np.mean(F1))\n",
    "        f1_all.append(F1)\n",
    "        thr_all.append(thr_lst)\n",
    "    best = np.argmax(F1_all)\n",
    "    best_param = param_dict[best]\n",
    "    \n",
    "    return best_param#, F1_all, f1_all, thr_all"
   ]
  },
  {
   "cell_type": "code",
   "execution_count": 143,
   "id": "68ee41aa",
   "metadata": {},
   "outputs": [
    {
     "name": "stdout",
     "output_type": "stream",
     "text": [
      "[{'n_estimators': 202, 'max_depth': 13, 'max_features': 'sqrt'}, {'n_estimators': 297, 'max_depth': 10, 'max_features': 'log2'}, {'n_estimators': 192, 'max_depth': 11, 'max_features': 'sqrt'}, {'n_estimators': 226, 'max_depth': 10, 'max_features': 'sqrt'}, {'n_estimators': 252, 'max_depth': 5, 'max_features': 'sqrt'}]\n"
     ]
    }
   ],
   "source": [
    "rfPars = Parameters(['n_estimators','max_depth','max_features'], [range(100,300,1), range(5,15,1), ['sqrt', 'log2']], 5)\n",
    "print(rfPars)\n",
    "#clf = RandomForestClassifier(**rfPars[0])\n",
    "#clf.fit(X, y)"
   ]
  },
  {
   "cell_type": "code",
   "execution_count": 144,
   "id": "2393c997",
   "metadata": {},
   "outputs": [
    {
     "name": "stdout",
     "output_type": "stream",
     "text": [
      "{'n_estimators': 202, 'max_depth': 13, 'max_features': 'sqrt'}\n",
      "{'n_estimators': 297, 'max_depth': 10, 'max_features': 'log2'}\n",
      "{'n_estimators': 192, 'max_depth': 11, 'max_features': 'sqrt'}\n",
      "{'n_estimators': 226, 'max_depth': 10, 'max_features': 'sqrt'}\n",
      "{'n_estimators': 252, 'max_depth': 5, 'max_features': 'sqrt'}\n"
     ]
    }
   ],
   "source": [
    "best_rf = HPSearch(X, y, rfPars, 3, list(np.arange(2,X.shape[1])), 'RF')"
   ]
  },
  {
   "cell_type": "code",
   "execution_count": 148,
   "id": "2662cf36",
   "metadata": {},
   "outputs": [],
   "source": [
    "clf = RandomForestClassifier(**a)\n",
    "clf.fit(X.to_numpy(), y.to_numpy())\n",
    "thr = best_thr(y,clf.predict_proba(X.to_numpy())[:,1])"
   ]
  },
  {
   "cell_type": "code",
   "execution_count": 31,
   "id": "03b976c3",
   "metadata": {},
   "outputs": [],
   "source": [
    "sm = SMOTENC(categorical_features = [i for i in range(2, X.shape[1])])\n",
    "X_res, y_res = sm.fit_resample(X, y)"
   ]
  },
  {
   "cell_type": "code",
   "execution_count": 32,
   "id": "ebdbedb0",
   "metadata": {},
   "outputs": [
    {
     "data": {
      "text/plain": [
       "<seaborn.axisgrid.FacetGrid at 0x219eaf48188>"
      ]
     },
     "execution_count": 32,
     "metadata": {},
     "output_type": "execute_result"
    },
    {
     "data": {
      "image/png": "[encoded data removed]",
      "text/plain": [
       "<Figure size 411.5x360 with 1 Axes>"
      ]
     },
     "metadata": {
      "needs_background": "light"
     },
     "output_type": "display_data"
    }
   ],
   "source": [
    "sns.displot(pd.concat([X_res, y_res],axis = 1),x=\"AGE\", kind = \"kde\", hue =\"outcome\")"
   ]
  },
  {
   "cell_type": "code",
   "execution_count": 33,
   "id": "5ea9288f",
   "metadata": {},
   "outputs": [
    {
     "data": {
      "text/plain": [
       "<seaborn.axisgrid.FacetGrid at 0x219e8185748>"
      ]
     },
     "execution_count": 33,
     "metadata": {},
     "output_type": "execute_result"
    },
    {
     "data": {
      "image/png": "[encoded data removed]",
      "text/plain": [
       "<Figure size 411.5x360 with 1 Axes>"
      ]
     },
     "metadata": {
      "needs_background": "light"
     },
     "output_type": "display_data"
    }
   ],
   "source": [
    "sns.displot(pd.concat([X_res, y_res],axis = 1),x=\"LOS\", kind = \"kde\", hue =\"outcome\")"
   ]
  },
  {
   "cell_type": "markdown",
   "id": "de70d091",
   "metadata": {},
   "source": [
    "# Modeling"
   ]
  },
  {
   "cell_type": "code",
   "execution_count": null,
   "id": "e649f651",
   "metadata": {},
   "outputs": [
    {
     "name": "stderr",
     "output_type": "stream",
     "text": [
      "C:\\Users\\User\\.conda\\envs\\tf\\lib\\site-packages\\sklearn\\model_selection\\_search.py:292: UserWarning: The total space of parameters 8 is smaller than n_iter=10. Running 8 iterations. For exhaustive searches, use GridSearchCV.\n",
      "  warnings.warn(\n",
      "C:\\Users\\User\\.conda\\envs\\tf\\lib\\site-packages\\sklearn\\model_selection\\_validation.py:372: FitFailedWarning: \n",
      "45 fits failed out of a total of 50.\n",
      "The score on these train-test partitions for these parameters will be set to nan.\n",
      "If these failures are not expected, you can try to debug them by setting error_score='raise'.\n",
      "\n",
      "Below are more details about the failures:\n",
      "--------------------------------------------------------------------------------\n",
      "35 fits failed with the following error:\n",
      "Traceback (most recent call last):\n",
      "  File \"C:\\Users\\User\\.conda\\envs\\tf\\lib\\site-packages\\sklearn\\model_selection\\_validation.py\", line 680, in _fit_and_score\n",
      "    estimator.fit(X_train, y_train, **fit_params)\n",
      "  File \"C:\\Users\\User\\.conda\\envs\\tf\\lib\\site-packages\\sklearn\\linear_model\\_logistic.py\", line 1461, in fit\n",
      "    solver = _check_solver(self.solver, self.penalty, self.dual)\n",
      "  File \"C:\\Users\\User\\.conda\\envs\\tf\\lib\\site-packages\\sklearn\\linear_model\\_logistic.py\", line 447, in _check_solver\n",
      "    raise ValueError(\n",
      "ValueError: Solver lbfgs supports only 'l2' or 'none' penalties, got elasticnet penalty.\n",
      "\n",
      "--------------------------------------------------------------------------------\n",
      "10 fits failed with the following error:\n",
      "Traceback (most recent call last):\n",
      "  File \"C:\\Users\\User\\.conda\\envs\\tf\\lib\\site-packages\\sklearn\\model_selection\\_validation.py\", line 680, in _fit_and_score\n",
      "    estimator.fit(X_train, y_train, **fit_params)\n",
      "  File \"C:\\Users\\User\\.conda\\envs\\tf\\lib\\site-packages\\sklearn\\linear_model\\_logistic.py\", line 1461, in fit\n",
      "    solver = _check_solver(self.solver, self.penalty, self.dual)\n",
      "  File \"C:\\Users\\User\\.conda\\envs\\tf\\lib\\site-packages\\sklearn\\linear_model\\_logistic.py\", line 447, in _check_solver\n",
      "    raise ValueError(\n",
      "ValueError: Solver lbfgs supports only 'l2' or 'none' penalties, got l1 penalty.\n",
      "\n",
      "  warnings.warn(some_fits_failed_message, FitFailedWarning)\n",
      "C:\\Users\\User\\.conda\\envs\\tf\\lib\\site-packages\\sklearn\\model_selection\\_search.py:969: UserWarning: One or more of the test scores are non-finite: [       nan        nan        nan        nan        nan        nan\n",
      " 0.56114252        nan        nan        nan]\n",
      "  warnings.warn(\n"
     ]
    }
   ],
   "source": [
    "dt_para = {\"max_depth\": range(4, 20, 2)}\n",
    "dt_cv = RandomizedSearchCV(DecisionTreeClassifier(), dt_para, scoring = \"f1\", cv = 5)\n",
    "\n",
    "\n",
    "rf_para = {\"max_depth\": range(4, 20, 2), \n",
    "            \"n_estimators\": [int(x) for x in range(100, 1000, 50)]}\n",
    "rf_cv = RandomizedSearchCV(RandomForestClassifier(), rf_para, scoring = \"f1\", cv = 5)\n",
    "\n",
    "lr_para = {\"C\": uniform(loc=0, scale=100), \"penalty\":[\"l1\",\"l2\",\"elasticnet\"]}\n",
    "lr_cv = RandomizedSearchCV(LogisticRegression(), lr_para, scoring = \"f1\", cv = 5)\n",
    "\n",
    "svm_para = {'C': uniform(loc=0, scale=100), 'gamma': uniform(loc=0, scale=100),'kernel': ['rbf', 'poly', 'sigmoid']}\n",
    "svm_cv = RandomizedSearchCV(SVC(), svm_para, scoring = \"f1\", cv = 5)\n",
    "\n",
    "\n",
    "dt_cv.fit(X_res, y_res)\n",
    "rf_cv.fit(X_res, y_res)\n",
    "lr_cv.fit(X_res, y_res)\n",
    "svm_cv.fit(X_res, y_res)"
   ]
  },
  {
   "cell_type": "code",
   "execution_count": 37,
   "id": "0dde5541",
   "metadata": {},
   "outputs": [],
   "source": [
    "from keras.layers import Dense, Activation, Conv1D, Dropout, Flatten, BatchNormalization\n",
    "from keras.callbacks import EarlyStopping\n",
    "from keras.models import Sequential"
   ]
  },
  {
   "cell_type": "code",
   "execution_count": 38,
   "id": "712f9aa8",
   "metadata": {},
   "outputs": [],
   "source": [
    "def CNN_firstlayer(model,neuron,fun):\n",
    "    model.add(Conv1D(neuron, 2, input_shape=(X_res.shape[1], 1))) # 2 means kernal size\n",
    "    model.add(BatchNormalization())\n",
    "    model.add(Activation(fun))\n",
    "    return model\n",
    "\n",
    "def CNN_layer(model,neuron,fun):\n",
    "    model.add(Conv1D(neuron, 2))\n",
    "    model.add(BatchNormalization())\n",
    "    model.add(Activation(fun)) \n",
    "    return model\n",
    "\n",
    "def CNN_gen(layer,neuron,fun):\n",
    "    model=Sequential()\n",
    "    model=CNN_firstlayer(model,neuron,fun)\n",
    "    for i in range(2,layer+1,1):\n",
    "        model=CNN_layer(model,neuron,fun)\n",
    "    model.add(Flatten())\n",
    "    model.add(Dense(1, activation='sigmoid', name='output'))\n",
    "    callbacks = [EarlyStopping(monitor = 'val_loss', patience = 30)]\n",
    "    model.compile(loss='binary_crossentropy', optimizer='Adam', metrics=['binary_accuracy'])\n",
    "    model.fit(X_res, y_res, epochs=50, validation_split=0.2, batch_size=512, callbacks=callbacks,verbose=0)\n",
    "    return model"
   ]
  },
  {
   "cell_type": "code",
   "execution_count": 39,
   "id": "d3dc5c58",
   "metadata": {
    "scrolled": true
   },
   "outputs": [
    {
     "name": "stdout",
     "output_type": "stream",
     "text": [
      "WARNING:tensorflow:AutoGraph could not transform <function Model.make_train_function.<locals>.train_function at 0x00000219918565E8> and will run it as-is.\n",
      "Please report this to the TensorFlow team. When filing the bug, set the verbosity to 10 (on Linux, `export AUTOGRAPH_VERBOSITY=10`) and attach the full output.\n",
      "Cause: 'arguments' object has no attribute 'posonlyargs'\n",
      "To silence this warning, decorate the function with @tf.autograph.experimental.do_not_convert\n",
      "WARNING: AutoGraph could not transform <function Model.make_train_function.<locals>.train_function at 0x00000219918565E8> and will run it as-is.\n",
      "Please report this to the TensorFlow team. When filing the bug, set the verbosity to 10 (on Linux, `export AUTOGRAPH_VERBOSITY=10`) and attach the full output.\n",
      "Cause: 'arguments' object has no attribute 'posonlyargs'\n",
      "To silence this warning, decorate the function with @tf.autograph.experimental.do_not_convert\n",
      "WARNING:tensorflow:AutoGraph could not transform <function Model.make_test_function.<locals>.test_function at 0x0000021991EBDCA8> and will run it as-is.\n",
      "Please report this to the TensorFlow team. When filing the bug, set the verbosity to 10 (on Linux, `export AUTOGRAPH_VERBOSITY=10`) and attach the full output.\n",
      "Cause: 'arguments' object has no attribute 'posonlyargs'\n",
      "To silence this warning, decorate the function with @tf.autograph.experimental.do_not_convert\n",
      "WARNING: AutoGraph could not transform <function Model.make_test_function.<locals>.test_function at 0x0000021991EBDCA8> and will run it as-is.\n",
      "Please report this to the TensorFlow team. When filing the bug, set the verbosity to 10 (on Linux, `export AUTOGRAPH_VERBOSITY=10`) and attach the full output.\n",
      "Cause: 'arguments' object has no attribute 'posonlyargs'\n",
      "To silence this warning, decorate the function with @tf.autograph.experimental.do_not_convert\n"
     ]
    }
   ],
   "source": [
    "m = CNN_gen(4, 4, \"relu\")"
   ]
  },
  {
   "cell_type": "code",
   "execution_count": 51,
   "id": "7bda41be",
   "metadata": {},
   "outputs": [
    {
     "name": "stdout",
     "output_type": "stream",
     "text": [
      "Epoch 1/50\n",
      "WARNING:tensorflow:AutoGraph could not transform <function Model.make_train_function.<locals>.train_function at 0x0000021991D67798> and will run it as-is.\n",
      "Please report this to the TensorFlow team. When filing the bug, set the verbosity to 10 (on Linux, `export AUTOGRAPH_VERBOSITY=10`) and attach the full output.\n",
      "Cause: 'arguments' object has no attribute 'posonlyargs'\n",
      "To silence this warning, decorate the function with @tf.autograph.experimental.do_not_convert\n",
      "WARNING: AutoGraph could not transform <function Model.make_train_function.<locals>.train_function at 0x0000021991D67798> and will run it as-is.\n",
      "Please report this to the TensorFlow team. When filing the bug, set the verbosity to 10 (on Linux, `export AUTOGRAPH_VERBOSITY=10`) and attach the full output.\n",
      "Cause: 'arguments' object has no attribute 'posonlyargs'\n",
      "To silence this warning, decorate the function with @tf.autograph.experimental.do_not_convert\n",
      "151/154 [============================>.] - ETA: 0s - loss: 0.6969 - binary_accuracy: 0.5907WARNING:tensorflow:AutoGraph could not transform <function Model.make_test_function.<locals>.test_function at 0x00000219958B1E58> and will run it as-is.\n",
      "Please report this to the TensorFlow team. When filing the bug, set the verbosity to 10 (on Linux, `export AUTOGRAPH_VERBOSITY=10`) and attach the full output.\n",
      "Cause: 'arguments' object has no attribute 'posonlyargs'\n",
      "To silence this warning, decorate the function with @tf.autograph.experimental.do_not_convert\n",
      "WARNING: AutoGraph could not transform <function Model.make_test_function.<locals>.test_function at 0x00000219958B1E58> and will run it as-is.\n",
      "Please report this to the TensorFlow team. When filing the bug, set the verbosity to 10 (on Linux, `export AUTOGRAPH_VERBOSITY=10`) and attach the full output.\n",
      "Cause: 'arguments' object has no attribute 'posonlyargs'\n",
      "To silence this warning, decorate the function with @tf.autograph.experimental.do_not_convert\n",
      "154/154 [==============================] - 1s 4ms/step - loss: 0.6961 - binary_accuracy: 0.5915 - val_loss: 0.7109 - val_binary_accuracy: 0.3330\n",
      "Epoch 2/50\n",
      "154/154 [==============================] - 0s 3ms/step - loss: 0.6411 - binary_accuracy: 0.6451 - val_loss: 0.7887 - val_binary_accuracy: 0.2280\n",
      "Epoch 3/50\n",
      "154/154 [==============================] - 0s 3ms/step - loss: 0.6378 - binary_accuracy: 0.6464 - val_loss: 0.8561 - val_binary_accuracy: 0.1536\n",
      "Epoch 4/50\n",
      "154/154 [==============================] - 0s 3ms/step - loss: 0.6363 - binary_accuracy: 0.6464 - val_loss: 0.8932 - val_binary_accuracy: 0.1651\n",
      "Epoch 5/50\n",
      "154/154 [==============================] - 0s 3ms/step - loss: 0.6353 - binary_accuracy: 0.6477 - val_loss: 0.9070 - val_binary_accuracy: 0.1674\n",
      "Epoch 6/50\n",
      "154/154 [==============================] - 0s 3ms/step - loss: 0.6345 - binary_accuracy: 0.6489 - val_loss: 0.8808 - val_binary_accuracy: 0.1921\n",
      "Epoch 7/50\n",
      "154/154 [==============================] - 0s 3ms/step - loss: 0.6340 - binary_accuracy: 0.6490 - val_loss: 0.8952 - val_binary_accuracy: 0.1793\n",
      "Epoch 8/50\n",
      "154/154 [==============================] - 0s 3ms/step - loss: 0.6333 - binary_accuracy: 0.6483 - val_loss: 0.8990 - val_binary_accuracy: 0.1789\n",
      "Epoch 9/50\n",
      "154/154 [==============================] - 0s 3ms/step - loss: 0.6329 - binary_accuracy: 0.6489 - val_loss: 1.0157 - val_binary_accuracy: 0.1397\n",
      "Epoch 10/50\n",
      "154/154 [==============================] - 0s 3ms/step - loss: 0.6327 - binary_accuracy: 0.6496 - val_loss: 0.9309 - val_binary_accuracy: 0.1734\n",
      "Epoch 11/50\n",
      "154/154 [==============================] - 0s 3ms/step - loss: 0.6323 - binary_accuracy: 0.6498 - val_loss: 0.9605 - val_binary_accuracy: 0.1474\n",
      "Epoch 12/50\n",
      "154/154 [==============================] - 0s 3ms/step - loss: 0.6321 - binary_accuracy: 0.6493 - val_loss: 0.8417 - val_binary_accuracy: 0.2286\n",
      "Epoch 13/50\n",
      "154/154 [==============================] - 0s 3ms/step - loss: 0.6316 - binary_accuracy: 0.6507 - val_loss: 0.8907 - val_binary_accuracy: 0.2070\n",
      "Epoch 14/50\n",
      "154/154 [==============================] - 0s 3ms/step - loss: 0.6315 - binary_accuracy: 0.6511 - val_loss: 0.8397 - val_binary_accuracy: 0.2275\n",
      "Epoch 15/50\n",
      "154/154 [==============================] - 0s 3ms/step - loss: 0.6312 - binary_accuracy: 0.6513 - val_loss: 0.8345 - val_binary_accuracy: 0.2380\n",
      "Epoch 16/50\n",
      "154/154 [==============================] - 0s 3ms/step - loss: 0.6309 - binary_accuracy: 0.6517 - val_loss: 0.8303 - val_binary_accuracy: 0.2482\n",
      "Epoch 17/50\n",
      "154/154 [==============================] - 0s 3ms/step - loss: 0.6306 - binary_accuracy: 0.6513 - val_loss: 0.9276 - val_binary_accuracy: 0.1935\n",
      "Epoch 18/50\n",
      "154/154 [==============================] - 0s 3ms/step - loss: 0.6305 - binary_accuracy: 0.6514 - val_loss: 0.8769 - val_binary_accuracy: 0.2240\n",
      "Epoch 19/50\n",
      "154/154 [==============================] - 0s 3ms/step - loss: 0.6304 - binary_accuracy: 0.6522 - val_loss: 0.9114 - val_binary_accuracy: 0.1944\n",
      "Epoch 20/50\n",
      "154/154 [==============================] - 0s 3ms/step - loss: 0.6301 - binary_accuracy: 0.6512 - val_loss: 0.9412 - val_binary_accuracy: 0.1838\n",
      "Epoch 21/50\n",
      "154/154 [==============================] - 0s 3ms/step - loss: 0.6298 - binary_accuracy: 0.6520 - val_loss: 0.9361 - val_binary_accuracy: 0.1869\n",
      "Epoch 22/50\n",
      "154/154 [==============================] - 0s 3ms/step - loss: 0.6300 - binary_accuracy: 0.6516 - val_loss: 0.8767 - val_binary_accuracy: 0.2456\n",
      "Epoch 23/50\n",
      "154/154 [==============================] - 0s 3ms/step - loss: 0.6299 - binary_accuracy: 0.6519 - val_loss: 0.9156 - val_binary_accuracy: 0.1938\n",
      "Epoch 24/50\n",
      "154/154 [==============================] - 0s 3ms/step - loss: 0.6298 - binary_accuracy: 0.6514 - val_loss: 0.9421 - val_binary_accuracy: 0.1896\n",
      "Epoch 25/50\n",
      "154/154 [==============================] - 0s 3ms/step - loss: 0.6294 - binary_accuracy: 0.6507 - val_loss: 0.8840 - val_binary_accuracy: 0.2263\n",
      "Epoch 26/50\n",
      "154/154 [==============================] - 0s 3ms/step - loss: 0.6294 - binary_accuracy: 0.6515 - val_loss: 0.8732 - val_binary_accuracy: 0.2278\n",
      "Epoch 27/50\n",
      "154/154 [==============================] - 0s 3ms/step - loss: 0.6291 - binary_accuracy: 0.6517 - val_loss: 0.9451 - val_binary_accuracy: 0.1905\n",
      "Epoch 28/50\n",
      "154/154 [==============================] - 0s 3ms/step - loss: 0.6293 - binary_accuracy: 0.6515 - val_loss: 0.9380 - val_binary_accuracy: 0.1858\n",
      "Epoch 29/50\n",
      "154/154 [==============================] - 0s 3ms/step - loss: 0.6288 - binary_accuracy: 0.6515 - val_loss: 0.8906 - val_binary_accuracy: 0.2303\n",
      "Epoch 30/50\n",
      "154/154 [==============================] - 0s 3ms/step - loss: 0.6287 - binary_accuracy: 0.6520 - val_loss: 0.8807 - val_binary_accuracy: 0.2092\n",
      "Epoch 31/50\n",
      "154/154 [==============================] - 0s 3ms/step - loss: 0.6287 - binary_accuracy: 0.6523 - val_loss: 0.9358 - val_binary_accuracy: 0.2006\n"
     ]
    },
    {
     "data": {
      "text/plain": [
       "<keras.callbacks.History at 0x219924a7d48>"
      ]
     },
     "execution_count": 51,
     "metadata": {},
     "output_type": "execute_result"
    }
   ],
   "source": [
    "neuron = 4\n",
    "model=Sequential()\n",
    "\n",
    "#input layer\n",
    "model.add(Conv1D(neuron, 2, input_shape=(X_res.shape[1], 1), activation = 'relu')) # 2 means kernal size\n",
    "model.add(BatchNormalization())\n",
    "\n",
    "#second layer\n",
    "model.add(Conv1D(neuron, 2, activation = 'relu'))\n",
    "model.add(BatchNormalization())\n",
    "\n",
    "#third layer\n",
    "model.add(Conv1D(neuron, 2, activation = 'relu'))\n",
    "model.add(BatchNormalization())\n",
    "\n",
    "#last layer\n",
    "model.add(Flatten())\n",
    "model.add(Dense(1, activation='sigmoid'))\n",
    "\n",
    "#compile settings\n",
    "callbacks = [EarlyStopping(monitor = 'val_loss', patience = 30)]\n",
    "model.compile(loss='binary_crossentropy', optimizer='Adam', metrics=['binary_accuracy'])\n",
    "model.fit(X_res, y_res, epochs=50, validation_split=0.2, batch_size=512, callbacks=callbacks,verbose=1)"
   ]
  },
  {
   "cell_type": "code",
   "execution_count": 50,
   "id": "14675764",
   "metadata": {},
   "outputs": [
    {
     "data": {
      "text/plain": [
       "0"
      ]
     },
     "execution_count": 50,
     "metadata": {},
     "output_type": "execute_result"
    }
   ],
   "source": [
    "np.sum(m.predict(X)<0.02)"
   ]
  },
  {
   "cell_type": "code",
   "execution_count": null,
   "id": "0340cabf",
   "metadata": {},
   "outputs": [],
   "source": [
    "from keras import Input\n",
    "from keras.layers import Dense, Flatten, Conv1D, MaxPooling1D\n",
    "from keras import Model\n",
    "Feats = x_Train.shape[1]\n",
    "layer0 = Input(shape = (Feats, 1));print(layer0.shape)\n",
    "layer1 = Conv1D(filters = 8, kernel_size = 3, input_shape = (Feats, 1), activation = 'relu')(layer0); print(layer1.shape)\n",
    "layer2 = MaxPooling1D(pool_size = 2, input_shape = layer1.shape[1:], strides = None, padding = \"valid\")(layer1); print(layer2.shape)\n",
    "layer3 = Conv1D(filters = 4, kernel_size = 3, input_shape = layer2.shape[1:], activation = 'relu')(layer2); print(layer3.shape)\n",
    "layer4 = MaxPooling1D(pool_size = 2, input_shape = layer3.shape[1:], strides = None, padding = \"valid\")(layer3); print(layer4.shape)\n",
    "layer5 = Flatten()(layer4); print(layer5.shape)\n",
    "layer6 = Dense(1, activation='sigmoid')(layer5); print(layer6.shape)"
   ]
  },
  {
   "cell_type": "markdown",
   "id": "e5e8c18f",
   "metadata": {},
   "source": [
    "# perform same data preprocessing on unknown label testing dataset"
   ]
  },
  {
   "cell_type": "code",
   "execution_count": null,
   "id": "e71958ec",
   "metadata": {},
   "outputs": [],
   "source": [
    "test = pd.read_csv(\"Project#1_ts.csv\")"
   ]
  },
  {
   "cell_type": "code",
   "execution_count": null,
   "id": "1fd83af8",
   "metadata": {},
   "outputs": [],
   "source": [
    "test = test[X.columns[1:]]"
   ]
  },
  {
   "cell_type": "code",
   "execution_count": null,
   "id": "1e9496a9",
   "metadata": {},
   "outputs": [],
   "source": [
    "test.LOS = np.log(test.LOS)"
   ]
  },
  {
   "cell_type": "code",
   "execution_count": null,
   "id": "1d3487fe",
   "metadata": {},
   "outputs": [],
   "source": [
    "test.iloc[:,[0,1]] = (test.iloc[:,[0,1]] - test.iloc[:,[0,1]].mean())/test.iloc[:,[0,1]].std()"
   ]
  },
  {
   "cell_type": "code",
   "execution_count": null,
   "id": "b697c283",
   "metadata": {},
   "outputs": [],
   "source": [
    "test.isnull().sum()"
   ]
  },
  {
   "cell_type": "code",
   "execution_count": null,
   "id": "f8a63ce6",
   "metadata": {},
   "outputs": [],
   "source": [
    "test = test.fillna(0)"
   ]
  },
  {
   "cell_type": "code",
   "execution_count": null,
   "id": "5a2d6951",
   "metadata": {},
   "outputs": [],
   "source": [
    "test.to_csv(\"test.csv\", header = False, index = False)\n",
    "test.to_csv(\"test.data\", header = False, index = False)\n",
    "test.to_csv(\"test.test\", header = False, index = False)"
   ]
  },
  {
   "cell_type": "code",
   "execution_count": null,
   "id": "c133bf1e",
   "metadata": {},
   "outputs": [],
   "source": []
  },
  {
   "cell_type": "code",
   "execution_count": null,
   "id": "9d4f32c9",
   "metadata": {},
   "outputs": [],
   "source": []
  },
  {
   "cell_type": "code",
   "execution_count": null,
   "id": "9834a2b4",
   "metadata": {},
   "outputs": [],
   "source": []
  },
  {
   "cell_type": "code",
   "execution_count": null,
   "id": "c3980591",
   "metadata": {},
   "outputs": [],
   "source": [
    "clf = C45(attrNames = X.columns)"
   ]
  },
  {
   "cell_type": "code",
   "execution_count": null,
   "id": "ed9f8b96",
   "metadata": {},
   "outputs": [],
   "source": [
    "clf.fit(X_train_over, y_train_over)"
   ]
  },
  {
   "cell_type": "code",
   "execution_count": null,
   "id": "1fca8a2e",
   "metadata": {},
   "outputs": [],
   "source": [
    "#without over sample/ without std\n",
    "print('Training Accuracy:', accuracy_score(y_train_over, y_train_pred))\n",
    "print('Testing Accuracy:', accuracy_score(y_test, y_test_pred))\n",
    "print(\"-\"*40)\n",
    "print('Training F1:', f1_score(y_train_over, y_train_pred))\n",
    "print('Testing F1:', f1_score(y_test, y_test_pred))"
   ]
  },
  {
   "cell_type": "code",
   "execution_count": null,
   "id": "264161cf",
   "metadata": {},
   "outputs": [],
   "source": [
    "#without over sample/ with std\n",
    "print('Training Accuracy:', accuracy_score(y_train, y_train_pred))\n",
    "print('Testing Accuracy:', accuracy_score(y_test, y_test_pred))\n",
    "print(\"-\"*40)\n",
    "print('Training F1:', f1_score(y_train, y_train_pred))\n",
    "print('Testing F1:', f1_score(y_test, y_test_pred))"
   ]
  },
  {
   "cell_type": "code",
   "execution_count": null,
   "id": "f5d40b98",
   "metadata": {},
   "outputs": [],
   "source": [
    "#over sample/ with std\n",
    "print('Training Accuracy:', accuracy_score(y_train, y_train_pred))\n",
    "print('Testing Accuracy:', accuracy_score(y_test, y_test_pred))\n",
    "print(\"-\"*40)\n",
    "print('Training F1:', f1_score(y_train, y_train_pred))\n",
    "print('Testing F1:', f1_score(y_test, y_test_pred))"
   ]
  }
 ],
 "metadata": {
  "kernelspec": {
   "display_name": "Python 3 (ipykernel)",
   "language": "python",
   "name": "python3"
  },
  "language_info": {
   "codemirror_mode": {
    "name": "ipython",
    "version": 3
   },
   "file_extension": ".py",
   "mimetype": "text/x-python",
   "name": "python",
   "nbconvert_exporter": "python",
   "pygments_lexer": "ipython3",
   "version": "3.7.9"
  }
 },
 "nbformat": 4,
 "nbformat_minor": 5
}
