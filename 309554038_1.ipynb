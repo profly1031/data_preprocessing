{
 "cells": [
  {
   "cell_type": "code",
   "execution_count": 1,
   "id": "0ea36e18",
   "metadata": {},
   "outputs": [],
   "source": [
    "import pandas as pd\n",
    "import numpy as np\n",
    "import seaborn as sns\n",
    "import matplotlib.pyplot as plt\n",
    "from scipy.stats import chi2_contingency\n",
    "from itertools import combinations\n",
    "import seaborn as sns\n",
    "from imblearn.over_sampling import SMOTENC\n",
    "from sklearn.model_selection import train_test_split\n",
    "from sklearn.metrics import f1_score, accuracy_score, confusion_matrix\n",
    "from c45 import C45\n",
    "from sklearn.manifold import MDS"
   ]
  },
  {
   "cell_type": "markdown",
   "id": "877c676c",
   "metadata": {},
   "source": [
    "# splite continuous and categorical data for further analysis"
   ]
  },
  {
   "cell_type": "code",
   "execution_count": 2,
   "id": "13174e78",
   "metadata": {},
   "outputs": [],
   "source": [
    "data = pd.read_excel(\"tr.xlsx\")"
   ]
  },
  {
   "cell_type": "code",
   "execution_count": 3,
   "id": "b06c0dec",
   "metadata": {},
   "outputs": [
    {
     "data": {
      "text/plain": [
       "array([  2,   3,   4,   6,  14,  16,  58,  86, 103, 109, 132, 170, 205,\n",
       "       206, 229, 245, 274, 299, 316, 339, 350, 381, 428, 514, 516, 570,\n",
       "       852], dtype=int64)"
      ]
     },
     "execution_count": 3,
     "metadata": {},
     "output_type": "execute_result"
    }
   ],
   "source": [
    "np.sort(data.nunique().unique())"
   ]
  },
  {
   "cell_type": "code",
   "execution_count": 4,
   "id": "50995ed9",
   "metadata": {},
   "outputs": [],
   "source": [
    "data_conti = data.iloc[:,np.where(data.nunique()>20)[0]]\n",
    "data_cat = data.iloc[:,np.where(data.nunique()<=20)[0]]\n",
    "target = data_cat.iloc[:,0]\n",
    "data_cat = data_cat.iloc[:,1:]"
   ]
  },
  {
   "cell_type": "code",
   "execution_count": 5,
   "id": "bfa7c969",
   "metadata": {},
   "outputs": [],
   "source": [
    "data_conti = data_conti.fillna(data_conti.mean())\n",
    "\n",
    "for i in range(data_cat.shape[1]):\n",
    "    data_cat.iloc[:,i] = data_cat.iloc[:,0].fillna(data_cat.mode().to_numpy()[0][0])\n",
    "\n",
    "data_cat = pd.get_dummies(data_cat, columns = data_cat.columns, drop_first = True)"
   ]
  },
  {
   "cell_type": "code",
   "execution_count": 6,
   "id": "f16fb073",
   "metadata": {},
   "outputs": [
    {
     "ename": "MemoryError",
     "evalue": "Unable to allocate 20.3 GiB for an array with shape (52159, 52159) and data type float64",
     "output_type": "error",
     "traceback": [
      "\u001b[1;31m---------------------------------------------------------------------------\u001b[0m",
      "\u001b[1;31mMemoryError\u001b[0m                               Traceback (most recent call last)",
      "\u001b[1;32m<ipython-input-6-3e20448d6c47>\u001b[0m in \u001b[0;36m<module>\u001b[1;34m\u001b[0m\n\u001b[0;32m      1\u001b[0m \u001b[0membedding\u001b[0m \u001b[1;33m=\u001b[0m \u001b[0mMDS\u001b[0m\u001b[1;33m(\u001b[0m\u001b[0mn_components\u001b[0m\u001b[1;33m=\u001b[0m\u001b[1;36m2\u001b[0m\u001b[1;33m)\u001b[0m\u001b[1;33m\u001b[0m\u001b[1;33m\u001b[0m\u001b[0m\n\u001b[1;32m----> 2\u001b[1;33m \u001b[0mdata_trans\u001b[0m\u001b[1;33m=\u001b[0m \u001b[0membedding\u001b[0m\u001b[1;33m.\u001b[0m\u001b[0mfit_transform\u001b[0m\u001b[1;33m(\u001b[0m\u001b[0mdata_conti\u001b[0m\u001b[1;33m)\u001b[0m\u001b[1;33m\u001b[0m\u001b[1;33m\u001b[0m\u001b[0m\n\u001b[0m\u001b[0;32m      3\u001b[0m \u001b[0mdata_trans\u001b[0m\u001b[1;33m.\u001b[0m\u001b[0mshape\u001b[0m\u001b[1;33m\u001b[0m\u001b[1;33m\u001b[0m\u001b[0m\n",
      "\u001b[1;32mD:\\Anaconda\\lib\\site-packages\\sklearn\\manifold\\_mds.py\u001b[0m in \u001b[0;36mfit_transform\u001b[1;34m(self, X, y, init)\u001b[0m\n\u001b[0;32m    447\u001b[0m             \u001b[0mself\u001b[0m\u001b[1;33m.\u001b[0m\u001b[0mdissimilarity_matrix_\u001b[0m \u001b[1;33m=\u001b[0m \u001b[0mX\u001b[0m\u001b[1;33m\u001b[0m\u001b[1;33m\u001b[0m\u001b[0m\n\u001b[0;32m    448\u001b[0m         \u001b[1;32melif\u001b[0m \u001b[0mself\u001b[0m\u001b[1;33m.\u001b[0m\u001b[0mdissimilarity\u001b[0m \u001b[1;33m==\u001b[0m \u001b[1;34m\"euclidean\"\u001b[0m\u001b[1;33m:\u001b[0m\u001b[1;33m\u001b[0m\u001b[1;33m\u001b[0m\u001b[0m\n\u001b[1;32m--> 449\u001b[1;33m             \u001b[0mself\u001b[0m\u001b[1;33m.\u001b[0m\u001b[0mdissimilarity_matrix_\u001b[0m \u001b[1;33m=\u001b[0m \u001b[0meuclidean_distances\u001b[0m\u001b[1;33m(\u001b[0m\u001b[0mX\u001b[0m\u001b[1;33m)\u001b[0m\u001b[1;33m\u001b[0m\u001b[1;33m\u001b[0m\u001b[0m\n\u001b[0m\u001b[0;32m    450\u001b[0m         \u001b[1;32melse\u001b[0m\u001b[1;33m:\u001b[0m\u001b[1;33m\u001b[0m\u001b[1;33m\u001b[0m\u001b[0m\n\u001b[0;32m    451\u001b[0m             raise ValueError(\"Proximity must be 'precomputed' or 'euclidean'.\"\n",
      "\u001b[1;32mD:\\Anaconda\\lib\\site-packages\\sklearn\\utils\\validation.py\u001b[0m in \u001b[0;36minner_f\u001b[1;34m(*args, **kwargs)\u001b[0m\n\u001b[0;32m     61\u001b[0m             \u001b[0mextra_args\u001b[0m \u001b[1;33m=\u001b[0m \u001b[0mlen\u001b[0m\u001b[1;33m(\u001b[0m\u001b[0margs\u001b[0m\u001b[1;33m)\u001b[0m \u001b[1;33m-\u001b[0m \u001b[0mlen\u001b[0m\u001b[1;33m(\u001b[0m\u001b[0mall_args\u001b[0m\u001b[1;33m)\u001b[0m\u001b[1;33m\u001b[0m\u001b[1;33m\u001b[0m\u001b[0m\n\u001b[0;32m     62\u001b[0m             \u001b[1;32mif\u001b[0m \u001b[0mextra_args\u001b[0m \u001b[1;33m<=\u001b[0m \u001b[1;36m0\u001b[0m\u001b[1;33m:\u001b[0m\u001b[1;33m\u001b[0m\u001b[1;33m\u001b[0m\u001b[0m\n\u001b[1;32m---> 63\u001b[1;33m                 \u001b[1;32mreturn\u001b[0m \u001b[0mf\u001b[0m\u001b[1;33m(\u001b[0m\u001b[1;33m*\u001b[0m\u001b[0margs\u001b[0m\u001b[1;33m,\u001b[0m \u001b[1;33m**\u001b[0m\u001b[0mkwargs\u001b[0m\u001b[1;33m)\u001b[0m\u001b[1;33m\u001b[0m\u001b[1;33m\u001b[0m\u001b[0m\n\u001b[0m\u001b[0;32m     64\u001b[0m \u001b[1;33m\u001b[0m\u001b[0m\n\u001b[0;32m     65\u001b[0m             \u001b[1;31m# extra_args > 0\u001b[0m\u001b[1;33m\u001b[0m\u001b[1;33m\u001b[0m\u001b[1;33m\u001b[0m\u001b[0m\n",
      "\u001b[1;32mD:\\Anaconda\\lib\\site-packages\\sklearn\\metrics\\pairwise.py\u001b[0m in \u001b[0;36meuclidean_distances\u001b[1;34m(X, Y, Y_norm_squared, squared, X_norm_squared)\u001b[0m\n\u001b[0;32m    311\u001b[0m     \u001b[1;32melse\u001b[0m\u001b[1;33m:\u001b[0m\u001b[1;33m\u001b[0m\u001b[1;33m\u001b[0m\u001b[0m\n\u001b[0;32m    312\u001b[0m         \u001b[1;31m# if dtype is already float64, no need to chunk and upcast\u001b[0m\u001b[1;33m\u001b[0m\u001b[1;33m\u001b[0m\u001b[1;33m\u001b[0m\u001b[0m\n\u001b[1;32m--> 313\u001b[1;33m         \u001b[0mdistances\u001b[0m \u001b[1;33m=\u001b[0m \u001b[1;33m-\u001b[0m \u001b[1;36m2\u001b[0m \u001b[1;33m*\u001b[0m \u001b[0msafe_sparse_dot\u001b[0m\u001b[1;33m(\u001b[0m\u001b[0mX\u001b[0m\u001b[1;33m,\u001b[0m \u001b[0mY\u001b[0m\u001b[1;33m.\u001b[0m\u001b[0mT\u001b[0m\u001b[1;33m,\u001b[0m \u001b[0mdense_output\u001b[0m\u001b[1;33m=\u001b[0m\u001b[1;32mTrue\u001b[0m\u001b[1;33m)\u001b[0m\u001b[1;33m\u001b[0m\u001b[1;33m\u001b[0m\u001b[0m\n\u001b[0m\u001b[0;32m    314\u001b[0m         \u001b[0mdistances\u001b[0m \u001b[1;33m+=\u001b[0m \u001b[0mXX\u001b[0m\u001b[1;33m\u001b[0m\u001b[1;33m\u001b[0m\u001b[0m\n\u001b[0;32m    315\u001b[0m         \u001b[0mdistances\u001b[0m \u001b[1;33m+=\u001b[0m \u001b[0mYY\u001b[0m\u001b[1;33m\u001b[0m\u001b[1;33m\u001b[0m\u001b[0m\n",
      "\u001b[1;31mMemoryError\u001b[0m: Unable to allocate 20.3 GiB for an array with shape (52159, 52159) and data type float64"
     ]
    }
   ],
   "source": [
    "embedding = MDS(n_components=2)\n",
    "data_trans= embedding.fit_transform(data_conti)\n",
    "data_trans.shape"
   ]
  },
  {
   "cell_type": "code",
   "execution_count": null,
   "id": "8bc761eb",
   "metadata": {},
   "outputs": [],
   "source": [
    "plt.plot(data_trans[:,0])\n",
    "plt.plot(data_trans[:,1])"
   ]
  },
  {
   "cell_type": "code",
   "execution_count": 5,
   "id": "640743dc",
   "metadata": {
    "scrolled": true
   },
   "outputs": [
    {
     "data": {
      "text/plain": [
       "cci_index\n",
       "0            35002\n",
       "1             8003\n",
       "2             4343\n",
       "3             2301\n",
       "4             1172\n",
       "5              656\n",
       "6              289\n",
       "8              131\n",
       "7              117\n",
       "9               84\n",
       "10              29\n",
       "11              13\n",
       "12              12\n",
       "13               4\n",
       "14               2\n",
       "15               1\n",
       "dtype: int64"
      ]
     },
     "execution_count": 5,
     "metadata": {},
     "output_type": "execute_result"
    }
   ],
   "source": [
    "data[data.columns[data.nunique()==16]].value_counts()"
   ]
  },
  {
   "cell_type": "markdown",
   "id": "805e6af8",
   "metadata": {},
   "source": [
    "# Delete continuous data with NA value over 30% (paper supported)"
   ]
  },
  {
   "cell_type": "code",
   "execution_count": 6,
   "id": "e4ef9297",
   "metadata": {},
   "outputs": [
    {
     "name": "stdout",
     "output_type": "stream",
     "text": [
      "Index(['AGE', 'LOS'], dtype='object')\n"
     ]
    }
   ],
   "source": [
    "print(data_conti.columns[np.where((data_conti.isnull().sum()/len(data))<0.3)])\n",
    "data_conti = data_conti[data_conti.columns[np.where((data_conti.isnull().sum()/len(data))<0.3)]]"
   ]
  },
  {
   "cell_type": "markdown",
   "id": "08901f78",
   "metadata": {},
   "source": [
    "# Examine proportion of outcome"
   ]
  },
  {
   "cell_type": "code",
   "execution_count": 7,
   "id": "caeea435",
   "metadata": {},
   "outputs": [
    {
     "data": {
      "text/plain": [
       "0    51280\n",
       "1      879\n",
       "Name: outcome, dtype: int64"
      ]
     },
     "execution_count": 7,
     "metadata": {},
     "output_type": "execute_result"
    }
   ],
   "source": [
    "data[\"outcome\"].value_counts()"
   ]
  },
  {
   "cell_type": "markdown",
   "id": "f46bbab7",
   "metadata": {},
   "source": [
    "# Continuous data EDA"
   ]
  },
  {
   "cell_type": "code",
   "execution_count": 8,
   "id": "3af6d837",
   "metadata": {},
   "outputs": [
    {
     "data": {
      "image/png": "[encoded data removed]",
      "text/plain": [
       "<Figure size 432x288 with 2 Axes>"
      ]
     },
     "metadata": {
      "needs_background": "light"
     },
     "output_type": "display_data"
    }
   ],
   "source": [
    "data_conti.hist()\n",
    "plt.show()"
   ]
  },
  {
   "cell_type": "code",
   "execution_count": 9,
   "id": "8a537864",
   "metadata": {},
   "outputs": [],
   "source": [
    "data_conti.LOS = np.log(data_conti.LOS)"
   ]
  },
  {
   "cell_type": "code",
   "execution_count": 10,
   "id": "f63001f3",
   "metadata": {},
   "outputs": [
    {
     "data": {
      "image/png": "[encoded data removed]",
      "text/plain": [
       "<Figure size 432x288 with 2 Axes>"
      ]
     },
     "metadata": {
      "needs_background": "light"
     },
     "output_type": "display_data"
    }
   ],
   "source": [
    "data_conti.hist()\n",
    "plt.show()"
   ]
  },
  {
   "cell_type": "code",
   "execution_count": 11,
   "id": "60f48a8d",
   "metadata": {},
   "outputs": [
    {
     "data": {
      "text/html": [
       "<div>\n",
       "<style scoped>\n",
       "    .dataframe tbody tr th:only-of-type {\n",
       "        vertical-align: middle;\n",
       "    }\n",
       "\n",
       "    .dataframe tbody tr th {\n",
       "        vertical-align: top;\n",
       "    }\n",
       "\n",
       "    .dataframe thead th {\n",
       "        text-align: right;\n",
       "    }\n",
       "</style>\n",
       "<table border=\"1\" class=\"dataframe\">\n",
       "  <thead>\n",
       "    <tr style=\"text-align: right;\">\n",
       "      <th></th>\n",
       "      <th>AGE</th>\n",
       "      <th>LOS</th>\n",
       "    </tr>\n",
       "  </thead>\n",
       "  <tbody>\n",
       "    <tr>\n",
       "      <th>AGE</th>\n",
       "      <td>1.000000</td>\n",
       "      <td>0.030688</td>\n",
       "    </tr>\n",
       "    <tr>\n",
       "      <th>LOS</th>\n",
       "      <td>0.030688</td>\n",
       "      <td>1.000000</td>\n",
       "    </tr>\n",
       "  </tbody>\n",
       "</table>\n",
       "</div>"
      ],
      "text/plain": [
       "          AGE       LOS\n",
       "AGE  1.000000  0.030688\n",
       "LOS  0.030688  1.000000"
      ]
     },
     "execution_count": 11,
     "metadata": {},
     "output_type": "execute_result"
    }
   ],
   "source": [
    "data_conti.corr()"
   ]
  },
  {
   "cell_type": "markdown",
   "id": "63e9bcd9",
   "metadata": {},
   "source": [
    "# Standardization on continuous data"
   ]
  },
  {
   "cell_type": "code",
   "execution_count": 12,
   "id": "d263a627",
   "metadata": {},
   "outputs": [],
   "source": [
    "data_conti = (data_conti - data_conti.mean())/data_conti.std()"
   ]
  },
  {
   "cell_type": "markdown",
   "id": "6e8fbe40",
   "metadata": {},
   "source": [
    "# Chi square for categorical data"
   ]
  },
  {
   "cell_type": "code",
   "execution_count": 13,
   "id": "470a2c11",
   "metadata": {},
   "outputs": [],
   "source": [
    "def del_cat(pd_data_cat):\n",
    "    comb = combinations([i for i in range(pd_data_cat.shape[1])],2)\n",
    "    comb = list(comb)\n",
    "\n",
    "    chi_re = []\n",
    "    for i in comb:\n",
    "        re = []\n",
    "        re.append(pd_data_cat.columns[i[0]])\n",
    "        re.append(pd_data_cat.columns[i[1]])\n",
    "        re.append(chi2_contingency(np.array(pd.crosstab(pd_data_cat.iloc[:,i[0]], pd_data_cat.iloc[:,i[1]])))[1])\n",
    "        chi_re.append(re)\n",
    "\n",
    "    cat_col = pd_data_cat.columns\n",
    "    cat_count = np.array([0 for i in range(len(cat_col))])\n",
    "\n",
    "    for i in chi_re:\n",
    "        if i[2] < 0.05:\n",
    "            cat_count[np.where(cat_col == i[0])[0]] += 1\n",
    "            cat_count[np.where(cat_col == i[1])[0]] += 1\n",
    "            \n",
    "    return pd_data_cat.drop([cat_col[np.argmax(cat_count)]],axis=1)\n",
    "\n",
    "def chi_2(pd_data_cat):\n",
    "    comb = combinations([i for i in range(pd_data_cat.shape[1])], 2)\n",
    "    comb = list(comb)\n",
    "    chi_re = []\n",
    "    for i in comb:\n",
    "        re = []\n",
    "        re.append(pd_data_cat.columns[i[0]])\n",
    "        re.append(pd_data_cat.columns[i[1]])\n",
    "        re.append(chi2_contingency(np.array(pd.crosstab(pd_data_cat.iloc[:,i[0]], pd_data_cat.iloc[:,i[1]])))[1])\n",
    "        chi_re.append(re)\n",
    "    cat_col = pd_data_cat.columns\n",
    "    cat_count = np.array([0 for i in range(len(cat_col))])\n",
    "    for i in chi_re:\n",
    "        if i[2] < 0.05:\n",
    "            cat_count[np.where(cat_col == i[0])[0]] += 1\n",
    "            cat_count[np.where(cat_col == i[1])[0]] += 1\n",
    "    \n",
    "    return cat_count\n",
    "\n",
    "def oversample(data):\n",
    "    over_len = len(np.where(data.outcome==0)[0])-len(np.where(data.outcome==1)[0])\n",
    "    ind = np.random.choice(np.where(data.outcome==1)[0], over_len)\n",
    "    \n",
    "    #data_over = data_clean.iloc[np.random.randint(0,len(np.where(data_clean.outcome==1)[0])),:]\n",
    "    #for _ in range(over_len - 1):\n",
    "        #data_over = pd.concat([data_over,data_clean.iloc[np.random.randint(0,len(np.where(data_clean.outcome==1)[0])),:]],axis = 1)\n",
    "    return pd.concat([data.iloc[ind,:], data], axis = 0)"
   ]
  },
  {
   "cell_type": "code",
   "execution_count": 14,
   "id": "8a981301",
   "metadata": {},
   "outputs": [],
   "source": [
    "while np.sum(chi_2(data_cat) > 0):\n",
    "    data_cat = del_cat(data_cat)"
   ]
  },
  {
   "cell_type": "code",
   "execution_count": 15,
   "id": "db88a887",
   "metadata": {},
   "outputs": [],
   "source": [
    "del_cat_y = []\n",
    "for i in range(data_cat.shape[1]):\n",
    "    chi2_re = chi2_contingency(np.array(pd.crosstab(data_cat.iloc[:,i], target)))[1]\n",
    "    if chi2_re > 0.05:\n",
    "        del_cat_y.append(data_cat.columns[i])\n",
    "        #data_cat_f = data_cat.drop([data_cat.columns[i]],axis = 1)"
   ]
  },
  {
   "cell_type": "code",
   "execution_count": 16,
   "id": "b2603fb5",
   "metadata": {},
   "outputs": [],
   "source": [
    "data_cat_f = data_cat.drop(del_cat_y,axis = 1)"
   ]
  },
  {
   "cell_type": "code",
   "execution_count": 17,
   "id": "f38a81e0",
   "metadata": {},
   "outputs": [
    {
     "name": "stdout",
     "output_type": "stream",
     "text": [
      "0    49890\n",
      "1     2269\n",
      "Name: Rheumatoid Arthritis/collagen, dtype: int64\n",
      "0    51541\n",
      "1      618\n",
      "Name: Alcohol Abuse, dtype: int64\n"
     ]
    }
   ],
   "source": [
    "for i in range(data_cat_f.shape[1]):\n",
    "    print(data_cat_f.iloc[:,i].value_counts())"
   ]
  },
  {
   "cell_type": "code",
   "execution_count": 18,
   "id": "5900b2a4",
   "metadata": {},
   "outputs": [],
   "source": [
    "#one-hot後會讓NA的vecter都是0\n",
    "#data_cat_onehot = pd.get_dummies(data_cat, columns = data_cat.columns, drop_first = True)"
   ]
  },
  {
   "cell_type": "code",
   "execution_count": 18,
   "id": "c9798e01",
   "metadata": {},
   "outputs": [],
   "source": [
    "data_clean = pd.concat([target, data_conti, data_cat_f], axis = 1)\n",
    "#data_clean = data_clean.dropna()"
   ]
  },
  {
   "cell_type": "markdown",
   "id": "2185a8af",
   "metadata": {},
   "source": [
    "# Impute mean for continuous data"
   ]
  },
  {
   "cell_type": "code",
   "execution_count": 19,
   "id": "a1ca619c",
   "metadata": {},
   "outputs": [
    {
     "data": {
      "text/plain": [
       "outcome                           0\n",
       "AGE                              94\n",
       "LOS                              94\n",
       "Rheumatoid Arthritis/collagen     0\n",
       "Alcohol Abuse                     0\n",
       "dtype: int64"
      ]
     },
     "execution_count": 19,
     "metadata": {},
     "output_type": "execute_result"
    }
   ],
   "source": [
    "data_clean.isnull().sum()"
   ]
  },
  {
   "cell_type": "code",
   "execution_count": 20,
   "id": "efc0ed1c",
   "metadata": {},
   "outputs": [],
   "source": [
    "data_final = data_clean.fillna(0)"
   ]
  },
  {
   "cell_type": "markdown",
   "id": "f3737860",
   "metadata": {},
   "source": [
    "# SMOTENC on training data"
   ]
  },
  {
   "cell_type": "code",
   "execution_count": 21,
   "id": "6649ae3e",
   "metadata": {},
   "outputs": [],
   "source": [
    "X = data_final.iloc[:,1:]\n",
    "Y = data_final.outcome\n",
    "\n",
    "X_train, X_val, y_train, y_val = train_test_split(X.to_numpy(), Y.to_numpy(), test_size=0.2)"
   ]
  },
  {
   "cell_type": "code",
   "execution_count": 28,
   "id": "bea5c7dc",
   "metadata": {},
   "outputs": [],
   "source": [
    "sm = SMOTENC(categorical_features = [i for i in range(2, X.shape[1])])\n",
    "X_res, y_res = sm.fit_resample(X, Y)"
   ]
  },
  {
   "cell_type": "code",
   "execution_count": 33,
   "id": "fdd8e86a",
   "metadata": {},
   "outputs": [
    {
     "data": {
      "text/plain": [
       "<seaborn.axisgrid.FacetGrid at 0x228c1c596a0>"
      ]
     },
     "execution_count": 33,
     "metadata": {},
     "output_type": "execute_result"
    },
    {
     "data": {
      "image/png": "[encoded data removed]",
      "text/plain": [
       "<Figure size 411.5x360 with 1 Axes>"
      ]
     },
     "metadata": {
      "needs_background": "light"
     },
     "output_type": "display_data"
    }
   ],
   "source": [
    "sns.displot(pd.concat([X_res, y_res],axis = 1),x=\"AGE\", kind = \"kde\", hue =\"outcome\")"
   ]
  },
  {
   "cell_type": "code",
   "execution_count": 34,
   "id": "cd733f55",
   "metadata": {},
   "outputs": [
    {
     "data": {
      "text/plain": [
       "<seaborn.axisgrid.FacetGrid at 0x228c19c9ac0>"
      ]
     },
     "execution_count": 34,
     "metadata": {},
     "output_type": "execute_result"
    },
    {
     "data": {
      "image/png": "[encoded data removed]",
      "text/plain": [
       "<Figure size 411.5x360 with 1 Axes>"
      ]
     },
     "metadata": {
      "needs_background": "light"
     },
     "output_type": "display_data"
    }
   ],
   "source": [
    "sns.displot(pd.concat([X_res, y_res],axis = 1),x=\"LOS\", kind = \"kde\", hue =\"outcome\")"
   ]
  },
  {
   "cell_type": "markdown",
   "id": "9d649920",
   "metadata": {},
   "source": [
    "# Output files that linux can run"
   ]
  },
  {
   "cell_type": "code",
   "execution_count": 26,
   "id": "f05c2314",
   "metadata": {},
   "outputs": [],
   "source": [
    "f= open(\"name.txt\",\"w\")\n",
    "for n, i in enumerate(data_final.columns):\n",
    "    f.write(str(i))\n",
    "    f.write(\":\")\n",
    "    if data_final.nunique()[n] == 2:\n",
    "        f.write(\"0, 1\")\n",
    "    else:\n",
    "        f.write(\"continuous\")\n",
    "    f.write(\"\\n\")\n",
    "f.close()"
   ]
  },
  {
   "cell_type": "code",
   "execution_count": 25,
   "id": "79c268a7",
   "metadata": {},
   "outputs": [],
   "source": [
    "train = pd.DataFrame(np.append(X_res, y_res.reshape(-1, 1),axis = 1))\n",
    "\n",
    "val = pd.DataFrame(np.append(X_val, y_val.reshape(-1, 1),axis = 1))"
   ]
  },
  {
   "cell_type": "code",
   "execution_count": 30,
   "id": "d7e7ab0c",
   "metadata": {},
   "outputs": [],
   "source": [
    "for i in [2, 3, 4, 5, 6, 7, 8]:   #categorical, outcome\n",
    "    train.iloc[:,i] = train.iloc[:,i].apply(lambda x : int(x))\n",
    "    val.iloc[:,i] = val.iloc[:,i].apply(lambda x : int(x))\n",
    "\n",
    "for i in [0, 1]:      #continuous\n",
    "    train.iloc[:,0] = train.iloc[:,i].apply(lambda x : float(x))\n",
    "    val.iloc[:,0] = val.iloc[:,i].apply(lambda x : float(x))"
   ]
  },
  {
   "cell_type": "code",
   "execution_count": 35,
   "id": "23f3cdf4",
   "metadata": {},
   "outputs": [],
   "source": [
    "train.to_csv(\"Ian.data\", header = False, index = False)\n",
    "val.to_csv(\"Ian.test\", header = False, index = False)"
   ]
  },
  {
   "cell_type": "code",
   "execution_count": 36,
   "id": "c9fd5099",
   "metadata": {},
   "outputs": [],
   "source": [
    "pd.concat([X_res, y_res],axis = 1).to_csv(\"train.csv\", header = False, index = False)\n",
    "pd.concat([X_res, y_res],axis = 1).to_csv(\"train.data\", header = False, index = False)\n",
    "pd.concat([X_res, y_res],axis = 1).to_csv(\"train.test\", header = False, index = False)"
   ]
  },
  {
   "cell_type": "markdown",
   "id": "bc2d3e58",
   "metadata": {},
   "source": [
    "# perform same data preprocessing on unknown label testing dataset"
   ]
  },
  {
   "cell_type": "code",
   "execution_count": 37,
   "id": "3382371b",
   "metadata": {},
   "outputs": [],
   "source": [
    "test = pd.read_csv(\"Project#1_ts.csv\")"
   ]
  },
  {
   "cell_type": "code",
   "execution_count": 38,
   "id": "de520d3c",
   "metadata": {},
   "outputs": [],
   "source": [
    "test = test[data_final.columns[1:]]"
   ]
  },
  {
   "cell_type": "code",
   "execution_count": 40,
   "id": "35cdfe5e",
   "metadata": {},
   "outputs": [],
   "source": [
    "test.LOS = np.log(test.LOS)"
   ]
  },
  {
   "cell_type": "code",
   "execution_count": 41,
   "id": "70a33372",
   "metadata": {},
   "outputs": [],
   "source": [
    "test.iloc[:,[0,1]] = (test.iloc[:,[0,1]] - test.iloc[:,[0,1]].mean())/test.iloc[:,[0,1]].std()"
   ]
  },
  {
   "cell_type": "code",
   "execution_count": 42,
   "id": "e1285647",
   "metadata": {},
   "outputs": [
    {
     "data": {
      "text/plain": [
       "AGE                              1\n",
       "LOS                              1\n",
       "Rheumatoid Arthritis/collagen    0\n",
       "Alcohol Abuse                    0\n",
       "dtype: int64"
      ]
     },
     "execution_count": 42,
     "metadata": {},
     "output_type": "execute_result"
    }
   ],
   "source": [
    "test.isnull().sum()"
   ]
  },
  {
   "cell_type": "code",
   "execution_count": 43,
   "id": "f1741033",
   "metadata": {},
   "outputs": [],
   "source": [
    "test = test.fillna(0)"
   ]
  },
  {
   "cell_type": "code",
   "execution_count": 44,
   "id": "eb6eb064",
   "metadata": {},
   "outputs": [],
   "source": [
    "test.to_csv(\"test.csv\", header = False, index = False)\n",
    "test.to_csv(\"test.data\", header = False, index = False)\n",
    "test.to_csv(\"test.test\", header = False, index = False)"
   ]
  },
  {
   "cell_type": "code",
   "execution_count": null,
   "id": "2f36d666",
   "metadata": {},
   "outputs": [],
   "source": []
  },
  {
   "cell_type": "code",
   "execution_count": null,
   "id": "6fd53da6",
   "metadata": {},
   "outputs": [],
   "source": []
  },
  {
   "cell_type": "code",
   "execution_count": null,
   "id": "f4f10263",
   "metadata": {},
   "outputs": [],
   "source": []
  },
  {
   "cell_type": "code",
   "execution_count": 21,
   "id": "0dffb5a7",
   "metadata": {},
   "outputs": [],
   "source": [
    "clf = C45(attrNames = X.columns)"
   ]
  },
  {
   "cell_type": "code",
   "execution_count": 23,
   "id": "4897f8cc",
   "metadata": {},
   "outputs": [
    {
     "data": {
      "text/plain": [
       "C45(attrNames=['AGE', 'LOS', 'PulmonaryCirculationDisorders1', 'AIDSHIV1',\n",
       "               'MetastaticCancer1', 'RheumatoidArthritiscollagen1', 'Obesity1',\n",
       "               'AlcoholAbuse1'])"
      ]
     },
     "execution_count": 23,
     "metadata": {},
     "output_type": "execute_result"
    }
   ],
   "source": [
    "clf.fit(X_train_over, y_train_over)"
   ]
  },
  {
   "cell_type": "code",
   "execution_count": 35,
   "id": "d992a94f",
   "metadata": {},
   "outputs": [
    {
     "name": "stdout",
     "output_type": "stream",
     "text": [
      "Training Accuracy: 0.72802389526282\n",
      "Testing Accuracy: 0.6778489116517286\n",
      "----------------------------------------\n",
      "Training F1: 0.7385973384846533\n",
      "Testing F1: 0.031189834424335774\n"
     ]
    }
   ],
   "source": [
    "#without over sample/ without std\n",
    "print('Training Accuracy:', accuracy_score(y_train_over, y_train_pred))\n",
    "print('Testing Accuracy:', accuracy_score(y_test, y_test_pred))\n",
    "print(\"-\"*40)\n",
    "print('Training F1:', f1_score(y_train_over, y_train_pred))\n",
    "print('Testing F1:', f1_score(y_test, y_test_pred))"
   ]
  },
  {
   "cell_type": "code",
   "execution_count": 49,
   "id": "e0c2ab66",
   "metadata": {},
   "outputs": [
    {
     "name": "stdout",
     "output_type": "stream",
     "text": [
      "Training Accuracy: 0.9847715736040609\n",
      "Testing Accuracy: 0.9818181818181818\n",
      "----------------------------------------\n",
      "Training F1: 0.17777777777777776\n",
      "Testing F1: 0.040540540540540536\n"
     ]
    }
   ],
   "source": [
    "#without over sample/ with std\n",
    "print('Training Accuracy:', accuracy_score(y_train, y_train_pred))\n",
    "print('Testing Accuracy:', accuracy_score(y_test, y_test_pred))\n",
    "print(\"-\"*40)\n",
    "print('Training F1:', f1_score(y_train, y_train_pred))\n",
    "print('Testing F1:', f1_score(y_test, y_test_pred))"
   ]
  },
  {
   "cell_type": "code",
   "execution_count": 44,
   "id": "3ff41723",
   "metadata": {},
   "outputs": [
    {
     "name": "stdout",
     "output_type": "stream",
     "text": [
      "Training Accuracy: 0.6991082453011387\n",
      "Testing Accuracy: 0.6991677336747759\n",
      "----------------------------------------\n",
      "Training F1: 0.07895178901394256\n",
      "Testing F1: 0.03093421323984327\n"
     ]
    }
   ],
   "source": [
    "#over sample/ with std\n",
    "print('Training Accuracy:', accuracy_score(y_train, y_train_pred))\n",
    "print('Testing Accuracy:', accuracy_score(y_test, y_test_pred))\n",
    "print(\"-\"*40)\n",
    "print('Training F1:', f1_score(y_train, y_train_pred))\n",
    "print('Testing F1:', f1_score(y_test, y_test_pred))"
   ]
  }
 ],
 "metadata": {
  "kernelspec": {
   "display_name": "Python 3",
   "language": "python",
   "name": "python3"
  },
  "language_info": {
   "codemirror_mode": {
    "name": "ipython",
    "version": 3
   },
   "file_extension": ".py",
   "mimetype": "text/x-python",
   "name": "python",
   "nbconvert_exporter": "python",
   "pygments_lexer": "ipython3",
   "version": "3.8.3"
  }
 },
 "nbformat": 4,
 "nbformat_minor": 5
}
